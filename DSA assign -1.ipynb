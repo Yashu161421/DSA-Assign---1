{
 "cells": [
  {
   "cell_type": "code",
   "execution_count": 1,
   "id": "2f061038",
   "metadata": {},
   "outputs": [
    {
     "name": "stdout",
     "output_type": "stream",
     "text": [
      "Enter integers: 10 20 25 40 35 50\n",
      "Enter the target sum: 60\n",
      "Pairs with the target sum: [(40, 20), (35, 25), (50, 10)]\n"
     ]
    }
   ],
   "source": [
    "#QUESTION -1\n",
    "\n",
    "def find_pairs_with_sum(arr, target_sum):\n",
    "    pairs = []     \n",
    "    seen = set()  \n",
    "    \n",
    "    for num in arr:\n",
    "        complement = target_sum - num  \n",
    "        \n",
    "        if complement in seen:\n",
    "            pairs.append((num, complement))\n",
    "\n",
    "        \n",
    "        seen.add(num)\n",
    "\n",
    "    return pairs\n",
    "\n",
    "# Take user input for the array elements\n",
    "user_input = input(\"Enter integers: \")\n",
    "my_array = list(map(int, user_input.split()))\n",
    "\n",
    "# Take user input for the target sum\n",
    "target_sum = int(input(\"Enter the target sum: \"))\n",
    "\n",
    "result = find_pairs_with_sum(my_array, target_sum)\n",
    "print(\"Pairs with the target sum:\", result)\n"
   ]
  },
  {
   "cell_type": "code",
   "execution_count": 2,
   "id": "430a7983",
   "metadata": {},
   "outputs": [
    {
     "name": "stdout",
     "output_type": "stream",
     "text": [
      "Enter integers: 2 4 6 8 10\n",
      "Reversed array: [10, 8, 6, 4, 2]\n"
     ]
    }
   ],
   "source": [
    "#QUESTION - 2\n",
    "\n",
    "def reverse_array(arr):\n",
    "      start = 0\n",
    "      end = len(arr) - 1\n",
    "\n",
    "      while start < end:\n",
    "        arr[start], arr[end] = arr[end], arr[start]\n",
    "\n",
    "        start += 1\n",
    "        end -= 1\n",
    "\n",
    "# Take user input for the array elements\n",
    "user_input = input(\"Enter integers: \")\n",
    "my_array = list(map(int, user_input.split()))\n",
    "\n",
    "# Call the reverse_array function to reverse the array in place\n",
    "reverse_array(my_array)\n",
    "\n",
    "\n",
    "print(\"Reversed array:\", my_array)\n"
   ]
  },
  {
   "cell_type": "code",
   "execution_count": 3,
   "id": "40e152d4",
   "metadata": {},
   "outputs": [
    {
     "name": "stdout",
     "output_type": "stream",
     "text": [
      "Enter the first string: Hello\n",
      "Enter the second string: World\n",
      "The strings are not rotations of each other.\n"
     ]
    }
   ],
   "source": [
    "#QUESTION - 3\n",
    "\n",
    "def are_rotations(str1, str2):\n",
    "    \n",
    "    if len(str1) != len(str2) or len(str1) == 0:\n",
    "        return False\n",
    "\n",
    "    concatenated_str = str1 + str1\n",
    "\n",
    "    if str2 in concatenated_str:\n",
    "        return True\n",
    "    else:\n",
    "        return False\n",
    "\n",
    "# Take user input for the two strings\n",
    "str1 = input(\"Enter the first string: \")\n",
    "str2 = input(\"Enter the second string: \")\n",
    "\n",
    "if are_rotations(str1, str2):\n",
    "    print(\"The strings are rotations of each other.\")\n",
    "else:\n",
    "    print(\"The strings are not rotations of each other.\")\n"
   ]
  },
  {
   "cell_type": "code",
   "execution_count": 4,
   "id": "369b53a9",
   "metadata": {},
   "outputs": [
    {
     "name": "stdout",
     "output_type": "stream",
     "text": [
      "Enter a string: python\n",
      "The first non-repeated character is: p\n"
     ]
    }
   ],
   "source": [
    "#QUESTION - 4\n",
    "\n",
    "def first_non_repeated_character(input_str):\n",
    "    char_count = {}  \n",
    "   \n",
    "    for char in input_str:\n",
    "        if char in char_count:\n",
    "            char_count[char] += 1\n",
    "        else:\n",
    "            char_count[char] = 1\n",
    "\n",
    "    \n",
    "    for char in input_str:\n",
    "        if char_count[char] == 1:\n",
    "            return char\n",
    "\n",
    "    return None\n",
    "\n",
    "# Take user input for the string\n",
    "input_string = input(\"Enter a string: \")\n",
    "result = first_non_repeated_character(input_string)\n",
    "\n",
    "if result is not None:\n",
    "    print(\"The first non-repeated character is:\", result)\n",
    "else:\n",
    "    print(\"No non-repeated character found in the string.\")\n"
   ]
  },
  {
   "cell_type": "code",
   "execution_count": 5,
   "id": "a44f6e0d",
   "metadata": {},
   "outputs": [
    {
     "name": "stdout",
     "output_type": "stream",
     "text": [
      "Enter the number of disks: 2\n",
      "Enter the name of the source peg: Y\n",
      "Enter the name of the auxiliary peg: W\n",
      "Enter the name of the destination peg: P\n",
      "Move disk 1 from Y to W\n",
      "Move disk 2 from Y to P\n",
      "Move disk 1 from W to P\n"
     ]
    }
   ],
   "source": [
    "#QUESTION - 5\n",
    "\n",
    "def tower_of_hanoi(n, source, auxiliary, destination):\n",
    "    if n == 1:\n",
    "        print(f\"Move disk 1 from {source} to {destination}\")\n",
    "        return\n",
    "    tower_of_hanoi(n - 1, source, destination, auxiliary)\n",
    "    print(f\"Move disk {n} from {source} to {destination}\")\n",
    "    tower_of_hanoi(n - 1, auxiliary, source, destination)\n",
    "\n",
    "# Take user input for the number of disks and peg names\n",
    "n = int(input(\"Enter the number of disks: \"))\n",
    "source_peg = input(\"Enter the name of the source peg: \")\n",
    "auxiliary_peg = input(\"Enter the name of the auxiliary peg: \")\n",
    "destination_peg = input(\"Enter the name of the destination peg: \")\n",
    "\n",
    "tower_of_hanoi(n, source_peg, auxiliary_peg, destination_peg)\n"
   ]
  },
  {
   "cell_type": "code",
   "execution_count": 6,
   "id": "7778e23f",
   "metadata": {},
   "outputs": [
    {
     "name": "stdout",
     "output_type": "stream",
     "text": [
      "Enter a postfix expression: 20 40 60 + *\n",
      "Prefix expression: *20+4060\n"
     ]
    }
   ],
   "source": [
    "#QUESTION - 6\n",
    "\n",
    "def postfix_to_prefix(postfix_expression):\n",
    "    stack = []\n",
    "    operators = set(['+', '-', '*', '/'])\n",
    "\n",
    "    for token in postfix_expression.split():\n",
    "        if token not in operators:\n",
    "            stack.append(token)\n",
    "        else:\n",
    "            operand2 = stack.pop()\n",
    "            operand1 = stack.pop()\n",
    "\n",
    "            expression = token + operand1 + operand2\n",
    "            stack.append(expression)\n",
    "\n",
    "    if stack:\n",
    "        return stack[0]\n",
    "    else:\n",
    "        return None\n",
    "\n",
    "# Take user input for the postfix expression\n",
    "postfix_expression = input(\"Enter a postfix expression: \")\n",
    "prefix_expression = postfix_to_prefix(postfix_expression)\n",
    "if prefix_expression is not None:\n",
    "    print(\"Prefix expression:\", prefix_expression)\n",
    "else:\n",
    "    print(\"Invalid postfix expression.\")"
   ]
  },
  {
   "cell_type": "code",
   "execution_count": 7,
   "id": "04173714",
   "metadata": {},
   "outputs": [
    {
     "name": "stdout",
     "output_type": "stream",
     "text": [
      "Enter a prefix expression: *+AB-CD\n",
      "Infix expression: ((A+B)*(C-D))\n"
     ]
    }
   ],
   "source": [
    "#QUESTION - 7\n",
    "\n",
    "def is_operator(char):\n",
    "    return char in \"+-*/\"\n",
    "\n",
    "def prefix_to_infix(prefix_expression):\n",
    "    stack = []\n",
    "\n",
    "    \n",
    "    for char in reversed(prefix_expression):\n",
    "        if not is_operator(char):\n",
    "            stack.append(char)\n",
    "        else:\n",
    "            operand1 = stack.pop()\n",
    "            operand2 = stack.pop()\n",
    "\n",
    "            # Combine operands, operator, and parentheses and push back onto the stack\n",
    "            infix_expression = f\"({operand1}{char}{operand2})\"\n",
    "            stack.append(infix_expression)\n",
    "\n",
    "    if stack:\n",
    "        return stack[0]\n",
    "    else:\n",
    "        return None\n",
    "\n",
    "# Take user input for the prefix expression\n",
    "prefix_expression = input(\"Enter a prefix expression: \")\n",
    "infix_expression = prefix_to_infix(prefix_expression)\n",
    "if infix_expression is not None:\n",
    "    print(\"Infix expression:\", infix_expression)\n",
    "else:\n",
    "    print(\"Invalid prefix expression.\")\n",
    "\n"
   ]
  },
  {
   "cell_type": "code",
   "execution_count": 9,
   "id": "af94d016",
   "metadata": {},
   "outputs": [
    {
     "name": "stdout",
     "output_type": "stream",
     "text": [
      "Enter a code snippet: int x = 7;\n",
      "All brackets are properly matched.\n"
     ]
    }
   ],
   "source": [
    "#QUESTION - 8\n",
    "\n",
    "def are_brackets_matched(code_snippet):\n",
    "    stack = []\n",
    "    bracket_pairs = {')': '(', '}': '{', ']': '['}\n",
    "\n",
    "    for char in code_snippet:\n",
    "        if char in '({[':\n",
    "            stack.append(char)\n",
    "        elif char in ')}]':\n",
    "            if not stack or stack[-1] != bracket_pairs[char]:\n",
    "                return False\n",
    "            stack.pop()\n",
    "\n",
    "  \n",
    "    return len(stack) == 0\n",
    "\n",
    "# Take user input for the code snippet\n",
    "code_snippet = input(\"Enter a code snippet: \")\n",
    "\n",
    "if are_brackets_matched(code_snippet):\n",
    "    print(\"All brackets are properly matched.\")\n",
    "else:\n",
    "    print(\"Brackets are not properly matched.\")\n"
   ]
  },
  {
   "cell_type": "code",
   "execution_count": 10,
   "id": "d49f32b8",
   "metadata": {},
   "outputs": [
    {
     "name": "stdout",
     "output_type": "stream",
     "text": [
      "Enter the number of elements in the stack: 3\n",
      "Enter element 1: Apple\n",
      "Enter element 2: Mango\n",
      "Enter element 3: Banana\n",
      "Original Stack: ['Apple', 'Mango', 'Banana']\n",
      "Reversed Stack: ['Apple', 'Mango', 'Banana']\n"
     ]
    }
   ],
   "source": [
    "#QUESTION - 9\n",
    "\n",
    "class Stack:\n",
    "    def __init__(self):\n",
    "        self.items = []\n",
    "\n",
    "    def is_empty(self):\n",
    "        return len(self.items) == 0\n",
    "\n",
    "    def push(self, item):\n",
    "        self.items.append(item)\n",
    "\n",
    "    def pop(self):\n",
    "        if not self.is_empty():\n",
    "            return self.items.pop()\n",
    "        else:\n",
    "            raise IndexError(\"Stack is empty\")\n",
    "\n",
    "    def peek(self):\n",
    "        if not self.is_empty():\n",
    "            return self.items[-1]\n",
    "        else:\n",
    "            raise IndexError(\"Stack is empty\")\n",
    "\n",
    "    def size(self):\n",
    "        return len(self.items)\n",
    "\n",
    "def reverse_stack(stack):\n",
    "    aux_stack = Stack()\n",
    "\n",
    "    while not stack.is_empty():\n",
    "         aux_stack.push(stack.pop())\n",
    "\n",
    "    while not aux_stack.is_empty():\n",
    "        stack.push(aux_stack.pop())\n",
    "\n",
    "# Create an empty stack\n",
    "original_stack = Stack()\n",
    "\n",
    "# Take user input to populate the stack\n",
    "n = int(input(\"Enter the number of elements in the stack: \"))\n",
    "for i in range(n):\n",
    "    element = input(f\"Enter element {i+1}: \")\n",
    "    original_stack.push(element)\n",
    "\n",
    "print(\"Original Stack:\", original_stack.items)\n",
    "reverse_stack(original_stack)\n",
    "print(\"Reversed Stack:\", original_stack.items)\n"
   ]
  },
  {
   "cell_type": "code",
   "execution_count": 11,
   "id": "a4f0f095",
   "metadata": {},
   "outputs": [
    {
     "name": "stdout",
     "output_type": "stream",
     "text": [
      "Enter a value: 1\n",
      "Enter a value: 2\n",
      "Enter a value: 4\n",
      "Enter a value: 6\n",
      "Enter a value: 8\n",
      "Enter a value: 9\n",
      "Enter a value: X\n",
      "Minimum element: 1.0\n"
     ]
    }
   ],
   "source": [
    "#QUESTION - 10\n",
    "\n",
    "class MinStack:\n",
    "    def __init__(self):\n",
    "        self.stack = []  \n",
    "        self.min_stack = []  \n",
    "\n",
    "    def push(self, value):\n",
    "        self.stack.append(value)\n",
    "\n",
    "        \n",
    "        if not self.min_stack or value <= self.min_stack[-1]:\n",
    "            self.min_stack.append(value)\n",
    "\n",
    "    def pop(self):\n",
    "        if not self.is_empty():\n",
    "            popped_element = self.stack.pop()\n",
    "\n",
    "            if popped_element == self.min_stack[-1]:\n",
    "                self.min_stack.pop()\n",
    "\n",
    "            return popped_element\n",
    "        else:\n",
    "            raise IndexError(\"Stack is empty\")\n",
    "\n",
    "    def top(self):\n",
    "        if not self.is_empty():\n",
    "            return self.stack[-1]\n",
    "        else:\n",
    "            raise IndexError(\"Stack is empty\")\n",
    "\n",
    "    def get_min(self):\n",
    "        if not self.is_empty():\n",
    "             return self.min_stack[-1]\n",
    "        else:\n",
    "            raise IndexError(\"Stack is empty\")\n",
    "\n",
    "    def is_empty(self):\n",
    "        return len(self.stack) == 0\n",
    "\n",
    "# Create a MinStack object\n",
    "min_stack = MinStack()\n",
    "\n",
    "\n",
    "while True:\n",
    "    try:\n",
    "        value = float(input(\"Enter a value: \"))\n",
    "        min_stack.push(value)\n",
    "    except ValueError:\n",
    "                break\n",
    "\n",
    "\n",
    "if not min_stack.is_empty():\n",
    "    print(\"Minimum element:\", min_stack.get_min())\n",
    "else:\n",
    "    print(\"Stack is empty.\")\n"
   ]
  },
  {
   "cell_type": "code",
   "execution_count": null,
   "id": "4986c85d",
   "metadata": {},
   "outputs": [],
   "source": []
  }
 ],
 "metadata": {
  "kernelspec": {
   "display_name": "Python 3 (ipykernel)",
   "language": "python",
   "name": "python3"
  },
  "language_info": {
   "codemirror_mode": {
    "name": "ipython",
    "version": 3
   },
   "file_extension": ".py",
   "mimetype": "text/x-python",
   "name": "python",
   "nbconvert_exporter": "python",
   "pygments_lexer": "ipython3",
   "version": "3.11.3"
  }
 },
 "nbformat": 4,
 "nbformat_minor": 5
}
